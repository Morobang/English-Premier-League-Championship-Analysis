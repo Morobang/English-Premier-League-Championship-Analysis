{
 "cells": [
  {
   "cell_type": "code",
   "execution_count": 1,
   "id": "b146329b",
   "metadata": {},
   "outputs": [
    {
     "name": "stdout",
     "output_type": "stream",
     "text": [
      "Successfully cleaned and saved: C:\\Users\\Morobang\\Documents\\GitHub\\English Premier League & Championship Analysis\\scripts\\01_Bronze\\Correctly_Formated Dataset\\England CSV.csv\n",
      "Successfully cleaned and saved: C:\\Users\\Morobang\\Documents\\GitHub\\English Premier League & Championship Analysis\\scripts\\01_Bronze\\Correctly_Formated Dataset\\England 2 CSV.csv\n"
     ]
    },
    {
     "data": {
      "text/plain": [
       "True"
      ]
     },
     "execution_count": 1,
     "metadata": {},
     "output_type": "execute_result"
    }
   ],
   "source": [
    "import pandas as pd\n",
    "import os\n",
    "\n",
    "def clean_referee_column():\n",
    "    \"\"\"\n",
    "    Cleans the 'Referee' column in two England CSV files:\n",
    "      1. Removes double quotes and commas.\n",
    "      2. Saves corrected files to a new Bronze subfolder.\n",
    "    \"\"\"\n",
    "    # Define paths\n",
    "    raw_data_folder = r\"C:\\Users\\Morobang\\Documents\\GitHub\\English Premier League & Championship Analysis\\data\"\n",
    "    bronze_output_folder = r\"C:\\Users\\Morobang\\Documents\\GitHub\\English Premier League & Championship Analysis\\scripts\\01_Bronze\\Correctly_Formated Dataset\"\n",
    "    \n",
    "    # Input files (raw)\n",
    "    input_files = [\n",
    "        os.path.join(raw_data_folder, \"England CSV.csv\"),\n",
    "        os.path.join(raw_data_folder, \"England 2 CSV.csv\")\n",
    "    ]\n",
    "    \n",
    "    # Create output folder if it doesn't exist\n",
    "    os.makedirs(bronze_output_folder, exist_ok=True)\n",
    "    \n",
    "    for file_path in input_files:\n",
    "        try:\n",
    "            # Read the CSV file\n",
    "            df = pd.read_csv(file_path)\n",
    "            \n",
    "            # Check if 'Referee' column exists\n",
    "            if \"Referee\" not in df.columns:\n",
    "                print(f\"Warning: 'Referee' column not found in {os.path.basename(file_path)}. Skipping.\")\n",
    "                continue\n",
    "            \n",
    "            # Clean the column (remove \" and ,)\n",
    "            df[\"Referee\"] = df[\"Referee\"].astype(str).str.replace('\"', '').str.replace(',', '')\n",
    "            \n",
    "            # Save to new location (Bronze layer)\n",
    "            output_path = os.path.join(bronze_output_folder, os.path.basename(file_path))\n",
    "            df.to_csv(output_path, index=False)\n",
    "            print(f\"Successfully cleaned and saved: {output_path}\")\n",
    "            \n",
    "        except Exception as e:\n",
    "            print(f\"Error processing {file_path}: {e}\")\n",
    "    \n",
    "    return True\n",
    "\n",
    "# Execute\n",
    "clean_referee_column()"
   ]
  }
 ],
 "metadata": {
  "kernelspec": {
   "display_name": ".venv",
   "language": "python",
   "name": "python3"
  },
  "language_info": {
   "codemirror_mode": {
    "name": "ipython",
    "version": 3
   },
   "file_extension": ".py",
   "mimetype": "text/x-python",
   "name": "python",
   "nbconvert_exporter": "python",
   "pygments_lexer": "ipython3",
   "version": "3.13.2"
  }
 },
 "nbformat": 4,
 "nbformat_minor": 5
}
