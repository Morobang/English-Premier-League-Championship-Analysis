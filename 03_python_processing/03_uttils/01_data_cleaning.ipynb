{
 "cells": [
  {
   "cell_type": "markdown",
   "id": "0375c3e9",
   "metadata": {},
   "source": [
    "# Data Cleaning Template – Football Dataset\n",
    "\n",
    "## 1. **Import Libraries & Load Data**\n"
   ]
  },
  {
   "cell_type": "code",
   "execution_count": null,
   "id": "cc51d50e",
   "metadata": {},
   "outputs": [],
   "source": [
    "import pandas as pd\n",
    "import numpy as np\n",
    "\n",
    "# Load datasets\n",
    "df1 = pd.read_csv(\"England 2 CSV.csv\")\n",
    "df2 = pd.read_csv(\"England CSV.csv\")"
   ]
  },
  {
   "cell_type": "markdown",
   "id": "7de9aff5",
   "metadata": {},
   "source": [
    "## 2. **Initial Inspection**\n",
    "\n",
    "* View the first few rows to understand the data.\n",
    "* Check shape (rows × columns).\n",
    "* Review column names.\n",
    "* Identify data types."
   ]
  },
  {
   "cell_type": "code",
   "execution_count": null,
   "id": "94e4e498",
   "metadata": {},
   "outputs": [],
   "source": [
    "df1.head()\n",
    "df1.shape\n",
    "df1.columns\n",
    "df1.info()"
   ]
  },
  {
   "cell_type": "markdown",
   "id": "f245b299",
   "metadata": {},
   "source": [
    "## 3. **Check for Missing Values**\n",
    "\n",
    "* Find columns with NaNs or blanks.\n",
    "* Decide on filling or removing."
   ]
  },
  {
   "cell_type": "code",
   "execution_count": null,
   "id": "70cd3e50",
   "metadata": {},
   "outputs": [],
   "source": [
    "df1.isnull().sum()"
   ]
  },
  {
   "cell_type": "markdown",
   "id": "4aab925a",
   "metadata": {},
   "source": [
    "**Action Plan**\n",
    "\n",
    "* **If numerical:** Fill with median/mean or 0.\n",
    "* **If categorical:** Fill with mode or `\"Unknown\"`.\n",
    "* **If high % missing:** Drop the column."
   ]
  },
  {
   "cell_type": "markdown",
   "id": "0aacce77",
   "metadata": {},
   "source": [
    "## 4. **Remove Duplicates**\n",
    "\n",
    "* Check if any exact duplicate rows exist."
   ]
  },
  {
   "cell_type": "code",
   "execution_count": null,
   "id": "a338ffd1",
   "metadata": {},
   "outputs": [],
   "source": [
    "df1.duplicated().sum()\n",
    "df1.drop_duplicates(inplace=True)"
   ]
  },
  {
   "cell_type": "markdown",
   "id": "5b096887",
   "metadata": {},
   "source": [
    "## 5. **Fix Column Names**\n",
    "\n",
    "* Remove spaces, make lowercase, use underscores.\n",
    "* Keep names consistent between datasets."
   ]
  },
  {
   "cell_type": "code",
   "execution_count": null,
   "id": "29d5a1b5",
   "metadata": {},
   "outputs": [],
   "source": [
    "df1.columns = df1.columns.str.strip().str.lower().str.replace(\" \", \"_\")\n",
    "df2.columns = df2.columns.str.strip().str.lower().str.replace(\" \", \"_\")"
   ]
  },
  {
   "cell_type": "markdown",
   "id": "8d995287",
   "metadata": {},
   "source": [
    "## 6. **Convert Data Types**\n",
    "\n",
    "* **Date** → `datetime` format.\n",
    "* **Numeric stats** → integers or floats.\n",
    "* **Categorical** → category type.\n"
   ]
  },
  {
   "cell_type": "code",
   "execution_count": null,
   "id": "eb19bcd6",
   "metadata": {},
   "outputs": [],
   "source": [
    "df1['date'] = pd.to_datetime(df1['date'], format=\"%d/%m/%Y\")\n",
    "numeric_cols = ['fth_goals', 'fta_goals', 'h_shots', 'a_shots', 'h_sot', 'a_sot', \n",
    "                'h_fouls', 'a_fouls', 'h_corners', 'a_corners', 'h_yellow', 'a_yellow',\n",
    "                'h_red', 'a_red']\n",
    "df1[numeric_cols] = df1[numeric_cols].astype(int)"
   ]
  },
  {
   "cell_type": "markdown",
   "id": "e17ec106",
   "metadata": {},
   "source": [
    "## 7. **Handle Inconsistent Values**\n",
    "\n",
    "* **Team names:** Ensure consistent spelling (e.g., \"Man United\" vs \"Manchester United\").\n",
    "* **Results:** Standardize to `\"H\"`, `\"A\"`, `\"D\"`."
   ]
  },
  {
   "cell_type": "code",
   "execution_count": null,
   "id": "a1faa46a",
   "metadata": {},
   "outputs": [],
   "source": [
    "df1['home_team'] = df1['home_team'].replace({\n",
    "    'Man United': 'Manchester United'\n",
    "})"
   ]
  },
  {
   "cell_type": "markdown",
   "id": "15309f95",
   "metadata": {},
   "source": [
    "## 8. **Feature Engineering**\n",
    "\n",
    "* Create **Goal Difference** = `FTH Goals - FTA Goals`.\n",
    "* Create **Total Shots** = `H Shots + A Shots`.\n",
    "* Encode categorical columns for ML."
   ]
  },
  {
   "cell_type": "code",
   "execution_count": null,
   "id": "66e65dba",
   "metadata": {},
   "outputs": [],
   "source": [
    "df1['goal_diff'] = df1['fth_goals'] - df1['fta_goals']\n",
    "df1['total_shots'] = df1['h_shots'] + df1['a_shots']\n",
    "df1 = pd.get_dummies(df1, columns=['ft_result', 'ht_result', 'league'])"
   ]
  },
  {
   "cell_type": "markdown",
   "id": "5a9ec127",
   "metadata": {},
   "source": [
    "## 9. **Merge Datasets** (if applicable)\n",
    "\n",
    "* Combine `df1` and `df2` for training."
   ]
  },
  {
   "cell_type": "code",
   "execution_count": null,
   "id": "49f7db61",
   "metadata": {},
   "outputs": [],
   "source": [
    "df = pd.concat([df1, df2], ignore_index=True)"
   ]
  },
  {
   "cell_type": "markdown",
   "id": "2fa5988f",
   "metadata": {},
   "source": [
    "## 10. **Final Checks**\n",
    "\n",
    "* No NaNs remain.\n",
    "* All datatypes are correct.\n",
    "* Ready for EDA or modeling."
   ]
  },
  {
   "cell_type": "code",
   "execution_count": null,
   "id": "d8402c4e",
   "metadata": {},
   "outputs": [],
   "source": [
    "df.info()\n",
    "df.describe()"
   ]
  }
 ],
 "metadata": {
  "language_info": {
   "name": "python"
  }
 },
 "nbformat": 4,
 "nbformat_minor": 5
}
