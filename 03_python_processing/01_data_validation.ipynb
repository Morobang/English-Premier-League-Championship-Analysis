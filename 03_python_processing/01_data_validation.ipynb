{
 "cells": [
  {
   "cell_type": "code",
   "execution_count": 6,
   "id": "96c1a321",
   "metadata": {},
   "outputs": [
    {
     "ename": "FileNotFoundError",
     "evalue": "[Errno 2] No such file or directory: 'c:\\\\Users\\\\Morobang\\\\Documents\\\\GitHub\\\\English Premier League & Championship Analysis\\\\03_uttils\\\\02_logging_config.py'",
     "output_type": "error",
     "traceback": [
      "\u001b[31m---------------------------------------------------------------------------\u001b[39m",
      "\u001b[31mFileNotFoundError\u001b[39m                         Traceback (most recent call last)",
      "\u001b[36mCell\u001b[39m\u001b[36m \u001b[39m\u001b[32mIn[6]\u001b[39m\u001b[32m, line 11\u001b[39m\n\u001b[32m      9\u001b[39m spec = importlib.util.spec_from_file_location(module_name, module_path)\n\u001b[32m     10\u001b[39m logging_config = importlib.util.module_from_spec(spec)\n\u001b[32m---> \u001b[39m\u001b[32m11\u001b[39m \u001b[43mspec\u001b[49m\u001b[43m.\u001b[49m\u001b[43mloader\u001b[49m\u001b[43m.\u001b[49m\u001b[43mexec_module\u001b[49m\u001b[43m(\u001b[49m\u001b[43mlogging_config\u001b[49m\u001b[43m)\u001b[49m\n\u001b[32m     13\u001b[39m \u001b[38;5;66;03m# Now you can use it\u001b[39;00m\n\u001b[32m     14\u001b[39m logger = logging_config.configure_logging()\n",
      "\u001b[36mFile \u001b[39m\u001b[32m<frozen importlib._bootstrap_external>:1022\u001b[39m, in \u001b[36mexec_module\u001b[39m\u001b[34m(self, module)\u001b[39m\n",
      "\u001b[36mFile \u001b[39m\u001b[32m<frozen importlib._bootstrap_external>:1159\u001b[39m, in \u001b[36mget_code\u001b[39m\u001b[34m(self, fullname)\u001b[39m\n",
      "\u001b[36mFile \u001b[39m\u001b[32m<frozen importlib._bootstrap_external>:1217\u001b[39m, in \u001b[36mget_data\u001b[39m\u001b[34m(self, path)\u001b[39m\n",
      "\u001b[31mFileNotFoundError\u001b[39m: [Errno 2] No such file or directory: 'c:\\\\Users\\\\Morobang\\\\Documents\\\\GitHub\\\\English Premier League & Championship Analysis\\\\03_uttils\\\\02_logging_config.py'"
     ]
    }
   ],
   "source": [
    "import importlib.util\n",
    "from pathlib import Path\n",
    "\n",
    "# Get the path to the module\n",
    "module_path = Path().absolute().parent / \"03_uttils\" / \"02_logging_config.py\"\n",
    "module_name = \"logging_config\"\n",
    "\n",
    "# Load the module\n",
    "spec = importlib.util.spec_from_file_location(module_name, module_path)\n",
    "logging_config = importlib.util.module_from_spec(spec)\n",
    "spec.loader.exec_module(logging_config)\n",
    "\n",
    "# Now you can use it\n",
    "logger = logging_config.configure_logging()"
   ]
  },
  {
   "cell_type": "code",
   "execution_count": null,
   "id": "29899616",
   "metadata": {},
   "outputs": [
    {
     "ename": "SyntaxError",
     "evalue": "invalid decimal literal (1804932208.py, line 6)",
     "output_type": "error",
     "traceback": [
      "  \u001b[36mCell\u001b[39m\u001b[36m \u001b[39m\u001b[32mIn[1]\u001b[39m\u001b[32m, line 6\u001b[39m\n\u001b[31m    \u001b[39m\u001b[31mfrom 03_utils.02_logging_config import get_logger\u001b[39m\n           ^\n\u001b[31mSyntaxError\u001b[39m\u001b[31m:\u001b[39m invalid decimal literal\n"
     ]
    }
   ],
   "source": [
    "\n",
    "logger = get_logger(\"data_validation\")\n",
    "\n",
    "# -----------------------------\n",
    "# Path to cleaned data\n",
    "# -----------------------------\n",
    "base_dir = \"03_utils/cleaned_data\"\n",
    "\n",
    "# Find latest year/month/day folder\n",
    "latest_year = sorted(os.listdir(base_dir))[-1]\n",
    "latest_month = sorted(os.listdir(os.path.join(base_dir, latest_year)))[-1]\n",
    "latest_day = sorted(os.listdir(os.path.join(base_dir, latest_year, latest_month)))[-1]\n",
    "\n",
    "latest_folder = os.path.join(base_dir, latest_year, latest_month, latest_day)\n",
    "logger.info(f\"Looking in folder: {latest_folder}\")\n",
    "\n",
    "# Find all CSV files in that folder\n",
    "csv_files = [f for f in os.listdir(latest_folder) if f.endswith(\".csv\")]\n",
    "\n",
    "if not csv_files:\n",
    "    logger.error(\"No CSV files found in the latest folder!\")\n",
    "else:\n",
    "    # Pick the CSV with the latest modified time\n",
    "    latest_csv = max(\n",
    "        [os.path.join(latest_folder, f) for f in csv_files],\n",
    "        key=os.path.getmtime\n",
    "    )\n",
    "    df = pd.read_csv(latest_csv, parse_dates=['date'])\n",
    "    logger.info(f\"Loaded latest cleaned data: {latest_csv} with {len(df)} rows\")\n",
    "# 3. Basic Data Info\n",
    "logger.info(f\"Columns: {df.columns.tolist()}\")\n",
    "logger.info(f\"Data types:\\n{df.dtypes}\")\n",
    "logger.info(f\"Missing values:\\n{df.isnull().sum()}\")\n",
    "\n",
    "# 4. Validation Checks\n",
    "\n",
    "# 4.1 Score consistency: home goals > away goals if ft_result == H\n",
    "score_inconsistency = df[(df['ft_result'] == 'H') & (df['fth_goals'] <= df['fta_goals'])]\n",
    "if len(score_inconsistency) > 0:\n",
    "    logger.warning(f\"Found {len(score_inconsistency)} matches with inconsistent scores (H result)\")\n",
    "else:\n",
    "    logger.info(\"No inconsistent home-win scores found\")\n",
    "\n",
    "# 4.2 Non-negative stats\n",
    "numeric_cols = ['fth_goals', 'fta_goals', 'h_shots', 'a_shots', 'h_sot', 'a_sot', \n",
    "                'h_corners', 'a_corners', 'h_yellow', 'a_yellow', 'h_red', 'a_red']\n",
    "negative_values = df[numeric_cols][(df[numeric_cols] < 0).any(axis=1)]\n",
    "if len(negative_values) > 0:\n",
    "    logger.warning(f\"Found {len(negative_values)} rows with negative values in numeric columns\")\n",
    "else:\n",
    "    logger.info(\"No negative values in numeric columns\")\n",
    "\n",
    "# 4.3 Date range check\n",
    "if not df['date'].between('2000-01-01', '2030-12-31').all():\n",
    "    logger.warning(\"Some dates are outside the expected range 2000-2030\")\n",
    "else:\n",
    "    logger.info(\"All dates are within the expected range\")\n",
    "\n",
    "# 4.4 Result distribution\n",
    "result_counts = df['ft_result'].value_counts(normalize=True)\n",
    "logger.info(f\"FT result distribution: {result_counts.to_dict()}\")\n",
    "\n",
    "# 4.5 Team representation\n",
    "low_freq_teams = df['hometeam'].value_counts()[df['hometeam'].value_counts() <= 5]\n",
    "if len(low_freq_teams) > 0:\n",
    "    logger.warning(f\"Teams with <= 5 matches: {low_freq_teams.to_dict()}\")\n",
    "else:\n",
    "    logger.info(\"All teams have sufficient match representation\")\n",
    "\n",
    "# 5. Summary Report\n",
    "report = {\n",
    "    \"total_rows\": len(df),\n",
    "    \"total_columns\": len(df.columns),\n",
    "    \"missing_values\": df.isnull().sum().sum(),\n",
    "    \"numeric_cols_check\": \"PASS\" if (df[numeric_cols] >= 0).all().all() else \"FAIL\",\n",
    "    \"date_range_check\": \"PASS\" if df['date'].between('2000-01-01', '2030-12-31').all() else \"FAIL\",\n",
    "    \"score_consistency_check\": \"PASS\" if len(score_inconsistency) == 0 else \"FAIL\"\n",
    "}\n",
    "logger.info(f\"Validation Summary: {report}\")\n",
    "\n",
    "# 6. Save validation report\n",
    "report_path = \"logs/data_validation_report.csv\"\n",
    "pd.DataFrame([report]).to_csv(report_path, index=False)\n",
    "logger.info(f\"Validation report saved: {report_path}\")\n",
    "\n"
   ]
  }
 ],
 "metadata": {
  "kernelspec": {
   "display_name": ".venv (3.13.2)",
   "language": "python",
   "name": "python3"
  },
  "language_info": {
   "codemirror_mode": {
    "name": "ipython",
    "version": 3
   },
   "file_extension": ".py",
   "mimetype": "text/x-python",
   "name": "python",
   "nbconvert_exporter": "python",
   "pygments_lexer": "ipython3",
   "version": "3.13.2"
  }
 },
 "nbformat": 4,
 "nbformat_minor": 5
}
