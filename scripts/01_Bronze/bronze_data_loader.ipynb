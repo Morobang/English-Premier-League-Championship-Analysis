{
 "cells": [
  {
   "cell_type": "code",
   "execution_count": 10,
   "id": "dcff5886",
   "metadata": {},
   "outputs": [
    {
     "name": "stdout",
     "output_type": "stream",
     "text": [
      "Configuration and imports loaded.\n"
     ]
    }
   ],
   "source": [
    "# Bronze Layer Data Loader - CONFIG & IMPORTS\n",
    "import os\n",
    "import subprocess\n",
    "import logging\n",
    "from datetime import datetime\n",
    "\n",
    "# Configuration\n",
    "SERVER = \"DESKTOP-939GPCA\"\n",
    "DATABASE = \"English Premier League and Championship\"\n",
    "PROCEDURE = \"Bronze.usp_Load_Bronze_England_Data\"\n",
    "CSV_FILES = [\n",
    "    \"C:\\\\Users\\\\Morobang\\\\Documents\\\\GitHub\\\\English Premier League & Championship Analysis\\\\data\\\\England CSV.csv\",\n",
    "    \"C:\\\\Users\\\\Morobang\\\\Documents\\\\GitHub\\\\English Premier League & Championship Analysis\\\\data\\\\England 2 CSV.csv\"\n",
    "]\n",
    "\n",
    "print(\"Configuration and imports loaded.\")\n"
   ]
  },
  {
   "cell_type": "code",
   "execution_count": 12,
   "id": "c8010c87",
   "metadata": {},
   "outputs": [
    {
     "name": "stdout",
     "output_type": "stream",
     "text": [
      "Logging is set up.\n"
     ]
    }
   ],
   "source": [
    "def setup_logging():\n",
    "    \"\"\"Configure logging to file and console\"\"\"\n",
    "    logging.basicConfig(\n",
    "        level=logging.INFO,\n",
    "        format='%(asctime)s - %(levelname)s - %(message)s',\n",
    "        handlers=[\n",
    "            logging.StreamHandler()  # Print only to console for this notebook\n",
    "        ]\n",
    "    )\n",
    "    print(\"Logging is set up.\")\n",
    "\n",
    "setup_logging()\n"
   ]
  },
  {
   "cell_type": "code",
   "execution_count": 13,
   "id": "06efda59",
   "metadata": {},
   "outputs": [
    {
     "name": "stdout",
     "output_type": "stream",
     "text": [
      "All source CSV files exist.\n"
     ]
    }
   ],
   "source": [
    "def validate_files():\n",
    "    \"\"\"Verify all required CSV files exist\"\"\"\n",
    "    missing_files = [f for f in CSV_FILES if not os.path.exists(f)]\n",
    "    if missing_files:\n",
    "        print(f\"❌ Missing files: {', '.join(missing_files)}\")\n",
    "        raise FileNotFoundError(f\"Missing files: {', '.join(missing_files)}\")\n",
    "    print(\"All source CSV files exist.\")\n",
    "\n",
    "validate_files()\n"
   ]
  },
  {
   "cell_type": "code",
   "execution_count": 14,
   "id": "991b8f9a",
   "metadata": {},
   "outputs": [
    {
     "name": "stdout",
     "output_type": "stream",
     "text": [
      "Executing SQL Procedure: Bronze.usp_Load_Bronze_England_Data ...\n",
      "Stored Procedure executed successfully:\n",
      "Loading Premier League data...\n",
      "Premier League data loaded successfully.\n",
      "Loading Championship data...\n",
      "Championship data loaded successfully.\n",
      "All data loaded into Bronze layer successfully.\n",
      "\n"
     ]
    }
   ],
   "source": [
    "def execute_sql_load():\n",
    "    \"\"\"Run the SQL Server stored procedure\"\"\"\n",
    "    cmd = [\n",
    "        \"sqlcmd\",\n",
    "        \"-S\", SERVER,\n",
    "        \"-d\", DATABASE,\n",
    "        \"-Q\", f\"EXEC {PROCEDURE}\"\n",
    "    ]\n",
    "    \n",
    "    print(f\"Executing SQL Procedure: {PROCEDURE} ...\")\n",
    "    result = subprocess.run(cmd, capture_output=True, text=True)\n",
    "    \n",
    "    if result.returncode != 0:\n",
    "        print(f\"Load failed:\\n{result.stderr}\")\n",
    "        raise RuntimeError(\"Stored procedure execution failed\")\n",
    "    \n",
    "    print(f\"Stored Procedure executed successfully:\\n{result.stdout}\")\n",
    "\n",
    "execute_sql_load()\n"
   ]
  }
 ],
 "metadata": {
  "kernelspec": {
   "display_name": ".venv",
   "language": "python",
   "name": "python3"
  },
  "language_info": {
   "codemirror_mode": {
    "name": "ipython",
    "version": 3
   },
   "file_extension": ".py",
   "mimetype": "text/x-python",
   "name": "python",
   "nbconvert_exporter": "python",
   "pygments_lexer": "ipython3",
   "version": "3.13.2"
  }
 },
 "nbformat": 4,
 "nbformat_minor": 5
}
