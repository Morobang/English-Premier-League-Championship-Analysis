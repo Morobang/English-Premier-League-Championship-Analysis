{
 "cells": [
  {
   "cell_type": "code",
   "execution_count": 1,
   "id": "b146329b",
   "metadata": {},
   "outputs": [
    {
     "name": "stdout",
     "output_type": "stream",
     "text": [
      "Successfully cleaned 'Referee' column and updated the file at: C:\\Users\\Morobang\\Documents\\GitHub\\English Premier League & Championship Analysis\\data\\England CSV.csv\n"
     ]
    },
    {
     "data": {
      "text/plain": [
       "True"
      ]
     },
     "execution_count": 1,
     "metadata": {},
     "output_type": "execute_result"
    }
   ],
   "source": [
    "import pandas as pd\n",
    "\n",
    "def clean_referee_column():\n",
    "    \"\"\"\n",
    "    Clean the 'Referee' column in the England CSV file by removing double quotes and commas,\n",
    "    then save the changes back to the original file.\n",
    "    \"\"\"\n",
    "    file_path = r\"C:\\Users\\Morobang\\Documents\\GitHub\\English Premier League & Championship Analysis\\data\\England CSV.csv\"\n",
    "    column_name = \"Referee\"\n",
    "    \n",
    "    try:\n",
    "        # Read the CSV file\n",
    "        df = pd.read_csv(file_path)\n",
    "        \n",
    "        # Check if the column exists\n",
    "        if column_name not in df.columns:\n",
    "            print(f\"Error: Column '{column_name}' not found in the CSV file.\")\n",
    "            print(\"Available columns:\", df.columns.tolist())\n",
    "            return False\n",
    "        \n",
    "        # Remove both double quotes and commas from the Referee column\n",
    "        df[column_name] = df[column_name].astype(str).str.replace('\"', '').str.replace(',', '')\n",
    "        \n",
    "        # Save back to the original file\n",
    "        df.to_csv(file_path, index=False)\n",
    "        print(f\"Successfully cleaned '{column_name}' column and updated the file at: {file_path}\")\n",
    "        return True\n",
    "    \n",
    "    except Exception as e:\n",
    "        print(f\"An error occurred: {e}\")\n",
    "        return False\n",
    "\n",
    "# Run the function\n",
    "clean_referee_column()"
   ]
  }
 ],
 "metadata": {
  "kernelspec": {
   "display_name": ".venv",
   "language": "python",
   "name": "python3"
  },
  "language_info": {
   "codemirror_mode": {
    "name": "ipython",
    "version": 3
   },
   "file_extension": ".py",
   "mimetype": "text/x-python",
   "name": "python",
   "nbconvert_exporter": "python",
   "pygments_lexer": "ipython3",
   "version": "3.13.2"
  }
 },
 "nbformat": 4,
 "nbformat_minor": 5
}
